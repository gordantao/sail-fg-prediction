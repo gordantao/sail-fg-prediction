{
 "cells": [
  {
   "cell_type": "code",
   "execution_count": 6,
   "id": "378b0390",
   "metadata": {},
   "outputs": [],
   "source": [
    "from typing import Optional\n",
    "from dotenv import load_dotenv\n",
    "import os\n",
    "import pandas as pd\n",
    "import numpy as np\n",
    "import cfbd\n",
    "from pprint import pprint\n",
    "import requests\n",
    "from enum import Enum"
   ]
  },
  {
   "cell_type": "code",
   "execution_count": 7,
   "id": "dc83da19",
   "metadata": {},
   "outputs": [],
   "source": [
    "class StatTypes(Enum):\n",
    "  \"\"\"\n",
    "  Stat IDs from api.collegefootballdata.com/plays/stats/types\n",
    "  \"\"\"\n",
    "  INCOMPLETION = 1\n",
    "  TARGET = 2\n",
    "  PASS_BREAKUP = 3\n",
    "  COMPLETION = 4\n",
    "  RECEPTION = 5\n",
    "  TACKLE = 6\n",
    "  RUSH = 7\n",
    "  FUMBLE = 8\n",
    "  FUMBLE_FORCED = 9\n",
    "  FUMBLE_RECOVERED = 10\n",
    "  SACK_TAKEN = 11\n",
    "  SACK = 12\n",
    "  KICKOFF = 13\n",
    "  ONSIDE_KICK = 14\n",
    "  KICKOFF_RETURN = 15\n",
    "  PUNT = 16\n",
    "  PUNT_BLOCK = 17\n",
    "  FG_ATTEMPT_BLOCKED = 18\n",
    "  FIELD_GOAL_BLOCK = 19\n",
    "  INTERCEPTION_THROWN = 20\n",
    "  INTERCEPTION = 21\n",
    "  TOUCHDOWN = 22\n",
    "  FIELD_GOAL_ATTEMPT = 23\n",
    "  FIELD_GOAL_MADE = 24\n",
    "  FIELD_GOAL_MISSED = 25"
   ]
  },
  {
   "cell_type": "code",
   "execution_count": 8,
   "id": "217f2159",
   "metadata": {},
   "outputs": [],
   "source": [
    "from typing import Union\n",
    "\n",
    "\n",
    "class CFBDClient:\n",
    "  hostname: str\n",
    "  headers: dict[str, str]\n",
    "  \n",
    "  def __init__(self, hostname: str, bearer_token: str):\n",
    "    self.hostname = hostname\n",
    "    self.headers = dict()\n",
    "    self.headers['Authorization'] = f'Bearer {bearer_token}'\n",
    "\n",
    "  def get(\n",
    "    self,\n",
    "    subpath: str,\n",
    "    headers: Optional[dict[str, str]] = None,\n",
    "    params: Optional[dict[str, any]] = None,\n",
    "    as_df: bool = False\n",
    "  ) -> Union[dict, pd.DataFrame]:\n",
    "    if headers is None:\n",
    "      headers = {}\n",
    "    headers.update(self.headers)\n",
    "\n",
    "    response = requests.get(\n",
    "      url=f\"{self.hostname}/{subpath}\",\n",
    "      headers=headers,\n",
    "      params=params  # <-- Pass query parameters here\n",
    "    )\n",
    "    if not response.ok:\n",
    "      raise requests.exceptions.RequestException(\n",
    "        f\"{response.status_code}: {response.text}\",\n",
    "        response=response\n",
    "      )\n",
    "    json_data = response.json()\n",
    "    return json_data if not as_df else self.response_as_df(json_data)\n",
    "  \n",
    "  @staticmethod\n",
    "  def response_as_df(response: Union[dict, list[dict]]) -> pd.DataFrame:\n",
    "    \"\"\"\n",
    "    Convert API JSON response (dict or list of dicts) into a Pandas DataFrame.\n",
    "    \"\"\"\n",
    "    if isinstance(response, dict):\n",
    "        # If dict has a single top-level key pointing to list of dicts\n",
    "        # or just a flat dict\n",
    "        if all(isinstance(v, list) for v in response.values()) and len(response) == 1:\n",
    "            response = next(iter(response.values()))\n",
    "        else:\n",
    "            response = [response]\n",
    "    return pd.DataFrame(response)\n"
   ]
  },
  {
   "cell_type": "code",
   "execution_count": 9,
   "id": "d7cf3d69",
   "metadata": {},
   "outputs": [],
   "source": [
    "load_dotenv()\n",
    "\n",
    "client = CFBDClient(\n",
    "  hostname = 'https://api.collegefootballdata.com/',\n",
    "  bearer_token = os.getenv('CFBDATA_API_KEY')\n",
    ")"
   ]
  },
  {
   "cell_type": "code",
   "execution_count": 17,
   "id": "bdc965a9",
   "metadata": {},
   "outputs": [],
   "source": [
    "makes = client.get('plays/stats', params={\n",
    "  'year': 2024,\n",
    "  'week': 1,\n",
    "  'statTypeId': StatTypes.FIELD_GOAL_MADE.value,\n",
    "  'classification': 'fbs',\n",
    "}, as_df=True)"
   ]
  },
  {
   "cell_type": "code",
   "execution_count": 18,
   "id": "fee3a9f5",
   "metadata": {},
   "outputs": [],
   "source": [
    "attempts = client.get('plays/stats', params={\n",
    "  'year': 2024,\n",
    "  'week': 1,\n",
    "  'statTypeId': StatTypes.FIELD_GOAL_ATTEMPT.value,\n",
    "  'classification': 'fbs',\n",
    "}, as_df=True)"
   ]
  },
  {
   "cell_type": "code",
   "execution_count": 19,
   "id": "dd7297e9",
   "metadata": {},
   "outputs": [
    {
     "data": {
      "text/plain": [
       "(376, 518)"
      ]
     },
     "execution_count": 19,
     "metadata": {},
     "output_type": "execute_result"
    }
   ],
   "source": [
    "len(makes), len(attempts)"
   ]
  }
 ],
 "metadata": {
  "kernelspec": {
   "display_name": "cfbd",
   "language": "python",
   "name": "python3"
  },
  "language_info": {
   "codemirror_mode": {
    "name": "ipython",
    "version": 3
   },
   "file_extension": ".py",
   "mimetype": "text/x-python",
   "name": "python",
   "nbconvert_exporter": "python",
   "pygments_lexer": "ipython3",
   "version": "3.12.7"
  }
 },
 "nbformat": 4,
 "nbformat_minor": 5
}
